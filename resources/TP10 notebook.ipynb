{
  "metadata": {
    "language_info": {
      "codemirror_mode": {
        "name": "python",
        "version": 3
      },
      "file_extension": ".py",
      "mimetype": "text/x-python",
      "name": "python",
      "nbconvert_exporter": "python",
      "pygments_lexer": "ipython3",
      "version": "3.8"
    },
    "kernelspec": {
      "name": "python",
      "display_name": "Python (Pyodide)",
      "language": "python"
    }
  },
  "nbformat_minor": 4,
  "nbformat": 4,
  "cells": [
    {
      "cell_type": "code",
      "source": "import base64\nimport struct\n\nphyPayload = \"QCZLjgGC4woFAwHcYJuX0c/5zJVZCw6brV8=\"\nbinData = base64.b64decode(phyPayload)\n#print(binData) # on a bien du binaire !\n\nMHDR = binData[0] #le premier octet\nMtype = MHDR >> 5 #les 3 premiers bits\n\nMACPayload = binData[1:-4] #tout sauf MIC et MHDR\n\n#print(MACPayload.hex())\n\n#FHDR_partial = MACPayload[:8]\n\n#DevAddr, FCtrl, Fcnt, Fopts0 = struct.unpack(\"<IBHB\", FHDR_partial) #on change la convention I = 4 octets, B = 1 octet, H = 2 octets\n\nDevAddr = int.from_bytes(MACPayload[:4], byteorder='little').to_bytes(4, byteorder='big').hex()\nprint(\"DevAddr : \" + DevAddr)\n\nFCtrl = bin(MACPayload[4]) # 2 est la longueur de Fopts\nprint(\"FCtrl : \" + FCtrl[2:])\n\nFCnt = int.from_bytes(MACPayload[5:7], byteorder='little').to_bytes(2, byteorder='big').hex()\nprint(\"FCnt : \" + FCnt)\n\nFOptsO = int.from_bytes(MACPayload[7:8], byteorder='little').to_bytes(1, byteorder='big').hex()\nprint(\"FOptsO : \" + FOptsO)\n\nFRMPayload = MACPayload[10:]\nprint (\"FRMPayload : \" + FRMPayload.hex().upper())\n",
      "metadata": {
        "trusted": true
      },
      "execution_count": 32,
      "outputs": [
        {
          "name": "stdout",
          "text": "DevAddr : 018e4b26\nFCtrl : 10000010\nFCnt : 0ae3\nFOptsO : 05\nFRMPayload : DC609B97D1CFF9CC95590B\n",
          "output_type": "stream"
        }
      ]
    },
    {
      "cell_type": "code",
      "source": "from cryptography.hazmat.primitives.ciphers import Cipher, algorithms, modes\nfrom cryptography.hazmat.backends import default_backend\nfrom Crypto.Cipher import AES\nfrom Crypto.Util import Padding\nimport binascii\n\n\n\nNwkSkey = \"026e26a58c4f234c3b9924f86dcad3a9\"\nAppSkey = \"dd0a32bf8b4082bc4a0017e99c1517d6\"\n\n#la clé à utiliser est ici AppSKey, car FPort = 1\n\n\n# Convertir la clé AppSkey de la chaîne de caractères à la forme binaire\nkey_bin = binascii.unhexlify(AppSkey)\n\nif len(FRMPayload) % 2 == 1:\n    FRMPayload = '0' + FRMPayload\n    \n# Convertir la payload de la chaîne de caractères à la forme binaire\npayload_bin = binascii.unhexlify(FRMPayload)\n\n# Définir le mode de chiffrement AES-128-CBC avec la clé AppSkey\ncipher = AES.new(key_bin, AES.MODE_ECB, b\"\\x00\" * 16)\n\npayload_pad_bin = Padding.pad(payload_bin, 16)\n\n# Déchiffrer la payload avec la clé AppSkey\npayload_decrypt = cipher.decrypt(payload_pad_bin)\n\n# Afficher la payload déchiffrée (en hexadécimal)\n#print(binascii.hexlify(payload_decrypt))\n\npayload_decrypt.hex()\n\n#A1 = bytes.fromhex(\"01\") + bytes.fromhex(\"00\") * 4 + bytes.fromhex(\"00\") + bin(DevAddr) +  ",
      "metadata": {
        "trusted": true
      },
      "execution_count": 86,
      "outputs": [
        {
          "ename": "<class 'TypeError'>",
          "evalue": "IV is not meaningful for the ECB mode",
          "traceback": [
            "\u001b[0;31m---------------------------------------------------------------------------\u001b[0m",
            "\u001b[0;31mTypeError\u001b[0m                                 Traceback (most recent call last)",
            "Cell \u001b[0;32mIn[86], line 25\u001b[0m\n\u001b[1;32m     22\u001b[0m payload_bin \u001b[38;5;241m=\u001b[39m binascii\u001b[38;5;241m.\u001b[39munhexlify(FRMPayload)\n\u001b[1;32m     24\u001b[0m \u001b[38;5;66;03m# Définir le mode de chiffrement AES-128-CBC avec la clé AppSkey\u001b[39;00m\n\u001b[0;32m---> 25\u001b[0m cipher \u001b[38;5;241m=\u001b[39m \u001b[43mAES\u001b[49m\u001b[38;5;241;43m.\u001b[39;49m\u001b[43mnew\u001b[49m\u001b[43m(\u001b[49m\u001b[43mkey_bin\u001b[49m\u001b[43m,\u001b[49m\u001b[43m \u001b[49m\u001b[43mAES\u001b[49m\u001b[38;5;241;43m.\u001b[39;49m\u001b[43mMODE_ECB\u001b[49m\u001b[43m,\u001b[49m\u001b[43m \u001b[49m\u001b[38;5;124;43mb\u001b[39;49m\u001b[38;5;124;43m\"\u001b[39;49m\u001b[38;5;130;43;01m\\x00\u001b[39;49;00m\u001b[38;5;124;43m\"\u001b[39;49m\u001b[43m \u001b[49m\u001b[38;5;241;43m*\u001b[39;49m\u001b[43m \u001b[49m\u001b[38;5;241;43m16\u001b[39;49m\u001b[43m)\u001b[49m\n\u001b[1;32m     27\u001b[0m payload_pad_bin \u001b[38;5;241m=\u001b[39m Padding\u001b[38;5;241m.\u001b[39mpad(payload_bin, \u001b[38;5;241m16\u001b[39m)\n\u001b[1;32m     29\u001b[0m \u001b[38;5;66;03m# Déchiffrer la payload avec la clé AppSkey\u001b[39;00m\n",
            "File \u001b[0;32m/lib/python3.11/site-packages/Crypto/Cipher/AES.py:228\u001b[0m, in \u001b[0;36mnew\u001b[0;34m(key, mode, *args, **kwargs)\u001b[0m\n\u001b[1;32m    128\u001b[0m \u001b[38;5;250m\u001b[39m\u001b[38;5;124;03m\"\"\"Create a new AES cipher.\u001b[39;00m\n\u001b[1;32m    129\u001b[0m \n\u001b[1;32m    130\u001b[0m \u001b[38;5;124;03mArgs:\u001b[39;00m\n\u001b[0;32m   (...)\u001b[0m\n\u001b[1;32m    224\u001b[0m \u001b[38;5;124;03m    an AES object, of the applicable mode.\u001b[39;00m\n\u001b[1;32m    225\u001b[0m \u001b[38;5;124;03m\"\"\"\u001b[39;00m\n\u001b[1;32m    227\u001b[0m kwargs[\u001b[38;5;124m\"\u001b[39m\u001b[38;5;124madd_aes_modes\u001b[39m\u001b[38;5;124m\"\u001b[39m] \u001b[38;5;241m=\u001b[39m \u001b[38;5;28;01mTrue\u001b[39;00m\n\u001b[0;32m--> 228\u001b[0m \u001b[38;5;28;01mreturn\u001b[39;00m \u001b[43m_create_cipher\u001b[49m\u001b[43m(\u001b[49m\u001b[43msys\u001b[49m\u001b[38;5;241;43m.\u001b[39;49m\u001b[43mmodules\u001b[49m\u001b[43m[\u001b[49m\u001b[38;5;18;43m__name__\u001b[39;49m\u001b[43m]\u001b[49m\u001b[43m,\u001b[49m\u001b[43m \u001b[49m\u001b[43mkey\u001b[49m\u001b[43m,\u001b[49m\u001b[43m \u001b[49m\u001b[43mmode\u001b[49m\u001b[43m,\u001b[49m\u001b[43m \u001b[49m\u001b[38;5;241;43m*\u001b[39;49m\u001b[43margs\u001b[49m\u001b[43m,\u001b[49m\u001b[43m \u001b[49m\u001b[38;5;241;43m*\u001b[39;49m\u001b[38;5;241;43m*\u001b[39;49m\u001b[43mkwargs\u001b[49m\u001b[43m)\u001b[49m\n",
            "File \u001b[0;32m/lib/python3.11/site-packages/Crypto/Cipher/__init__.py:77\u001b[0m, in \u001b[0;36m_create_cipher\u001b[0;34m(factory, key, mode, *args, **kwargs)\u001b[0m\n\u001b[1;32m     75\u001b[0m             \u001b[38;5;28;01mraise\u001b[39;00m \u001b[38;5;167;01mTypeError\u001b[39;00m(\u001b[38;5;124m\"\u001b[39m\u001b[38;5;124mToo many arguments for this mode\u001b[39m\u001b[38;5;124m\"\u001b[39m)\n\u001b[1;32m     76\u001b[0m     \u001b[38;5;28;01melif\u001b[39;00m mode \u001b[38;5;241m==\u001b[39m \u001b[38;5;241m1\u001b[39m:\n\u001b[0;32m---> 77\u001b[0m         \u001b[38;5;28;01mraise\u001b[39;00m \u001b[38;5;167;01mTypeError\u001b[39;00m(\u001b[38;5;124m\"\u001b[39m\u001b[38;5;124mIV is not meaningful for the ECB mode\u001b[39m\u001b[38;5;124m\"\u001b[39m)\n\u001b[1;32m     79\u001b[0m \u001b[38;5;28;01mreturn\u001b[39;00m modes[mode](factory, \u001b[38;5;241m*\u001b[39m\u001b[38;5;241m*\u001b[39mkwargs)\n",
            "\u001b[0;31mTypeError\u001b[0m: IV is not meaningful for the ECB mode"
          ],
          "output_type": "error"
        }
      ]
    },
    {
      "cell_type": "code",
      "source": "",
      "metadata": {},
      "execution_count": null,
      "outputs": []
    }
  ]
}